{
  "nbformat": 4,
  "nbformat_minor": 0,
  "metadata": {
    "colab": {
      "provenance": []
    },
    "kernelspec": {
      "name": "python3",
      "display_name": "Python 3"
    },
    "language_info": {
      "name": "python"
    }
  },
  "cells": [
    {
      "cell_type": "markdown",
      "source": [
        "1.  What is Object-Oriented Programming (OOP)?\n",
        "- Object-Oriented Programming (OOP) is a programming paradigm centered around objects—data structures encapsulating both data and behaviors. It four main principles.\n",
        " - encapsulation /abstraction /inheritance /polymorphism\n"
      ],
      "metadata": {
        "id": "mqYw93CsCGJw"
      }
    },
    {
      "cell_type": "markdown",
      "source": [
        "2. What is a class in OOP ?\n",
        "- In object-oriented programming, a class is a blueprint for creating objects. It defines the structure (attributes) and behavior (methods) that the objects created from the class will have."
      ],
      "metadata": {
        "id": "pZQf-bOFDVhs"
      }
    },
    {
      "cell_type": "markdown",
      "source": [
        "3. What is an object in OOP?\n",
        "- Objects are fundamental units in OOP, enabling modularity and reusability.\n",
        "\n",
        "\n"
      ],
      "metadata": {
        "id": "zYS3MyiTDycW"
      }
    },
    {
      "cell_type": "markdown",
      "source": [],
      "metadata": {
        "id": "Vorv0kyADxZA"
      }
    },
    {
      "cell_type": "markdown",
      "source": [
        "4. What is the difference between abstraction and encapsulation?\n",
        "- Abstraction: Focuses on what an object does by exposing only essential features and hiding complex implementation details. It's implemented using abstract classes and interfaces\n",
        "- Encapsulation: Focuses on how an object operates by bundling data and methods together, restricting direct access to some components. It's achieved through access modifiers like private, protected, and public."
      ],
      "metadata": {
        "id": "MSdssCMsELNY"
      }
    },
    {
      "cell_type": "markdown",
      "source": [
        "5.  What are dunder methods in Python?\n",
        "- dunder methods (short for \"double underscore\") in Python are special methods with names like __init__, __str__, and __add__. They enable custom classes to interact with built-in operations, such as object creation, string representation, and operator overloading."
      ],
      "metadata": {
        "id": "JCYk3zjGEz4f"
      }
    },
    {
      "cell_type": "markdown",
      "source": [
        "6. Explain the concept of inheritance in OOP?\n",
        "- Inheritance in object-oriented programming allows a class (child/subclass) to acquire properties and behaviors (methods) from another class (parent/superclass), promoting code reuse and establishing a hierarchical relationship between classes.\n"
      ],
      "metadata": {
        "id": "URYbkpGJFXBZ"
      }
    },
    {
      "cell_type": "markdown",
      "source": [
        "7.  What is polymorphism in OOP?\n",
        "- Polymorphism in OOP allows objects of different classes to be treated as instances of a common superclass, enabling a single interface to represent multiple underlying forms. This facilitates code flexibility and reuse."
      ],
      "metadata": {
        "id": "dm4VJtOvFsvR"
      }
    },
    {
      "cell_type": "markdown",
      "source": [
        "8. How is encapsulation achieved in Python?\n",
        "- Encapsulation in Python is achieved by controlling access to class attributes and methods using naming conventions:\n",
        "\n",
        "  - Public Members: No underscore prefix; accessible from anywhere.\n",
        "  - Protected Members: Prefix with a single underscore _; intended for internal use within the class and its subclasses.\n",
        "  - Private Members: Prefix with double underscores __; triggers name mangling to make them harder to access from outside the class.\n"
      ],
      "metadata": {
        "id": "aAIqKc_RGIK3"
      }
    },
    {
      "cell_type": "markdown",
      "source": [
        "9.  What is a constructor in Python?\n",
        "- In Python, a constructor is a special method named __init__() that is automatically called when a new object of a class is created. Its primary purpose is to initialize the object's attributes and set up any necessary state."
      ],
      "metadata": {
        "id": "8vOz86KHHDkx"
      }
    },
    {
      "cell_type": "markdown",
      "source": [
        "10. What are class and static methods in Python?\n",
        "- In Python, class methods and static methods are special types of methods that differ in how they interact with class and instance data.\n",
        "\n"
      ],
      "metadata": {
        "id": "DhMgXU3JHUsN"
      }
    },
    {
      "cell_type": "markdown",
      "source": [
        "11. What is method overloading in Python?\n",
        "- In Python, method overloading the ability to define multiple methods with the same name but different parameters is not natively supported. If you define a method multiple times with the same name, the last definition will override the previous ones."
      ],
      "metadata": {
        "id": "xoKtqvANHorM"
      }
    },
    {
      "cell_type": "markdown",
      "source": [],
      "metadata": {
        "id": "7qS0KuUnHoZD"
      }
    },
    {
      "cell_type": "markdown",
      "source": [
        "12.  What is method overriding in OOP?\n",
        "- Method overriding in object-oriented programming (OOP) occurs when a subclass provides a specific implementation of a method that is already defined in its superclass. This allows the subclass to modify or extend the behavior of the inherited method."
      ],
      "metadata": {
        "id": "Y3HuepD9IDxl"
      }
    },
    {
      "cell_type": "markdown",
      "source": [
        "13. What is a property decorator in Python?\n",
        "- In Python, the  @property decorator is a built-in feature that allows you to define methods in a class that can be accessed like attributes. This provides a way to encapsulate getter, setter, and deleter logic for attributes while maintaining a clean and intuitive interface."
      ],
      "metadata": {
        "id": "yaJfZ_XRIlf9"
      }
    },
    {
      "cell_type": "markdown",
      "source": [
        "14. Why is polymorphism important in OOP?\n",
        "- Polymorphism is a core principle in Object-Oriented Programming (OOP) that allows objects of different classes to be treated as instances of a common superclass. This enables a single interface to represent various underlying forms, facilitating more flexible and reusable code."
      ],
      "metadata": {
        "id": "iwRXitEyJNiS"
      }
    },
    {
      "cell_type": "markdown",
      "source": [
        "15. H What is an abstract class in Python?\n",
        "- n Python, an abstract class is a class that cannot be instantiated directly and serves as a blueprint for other classes. It allows you to define methods that must be implemented within any subclass, ensuring a consistent interface across different implementations."
      ],
      "metadata": {
        "id": "ydIpGNf_JhM2"
      }
    },
    {
      "cell_type": "markdown",
      "source": [
        "16. What are the advantages of OOP?\n",
        "- Object-Oriented Programming (OOP) offers several advantages that enhance software development:\n",
        "\n",
        "  - Modularity: Code is organized into classes and objects, making it easier to manage and understand.\n",
        "\n",
        "  - Reusability: Classes can be reused across different programs, reducing redundancy and promoting efficient coding practices.\n",
        "\n",
        "  - Maintainability: Encapsulation allows for changes in implementation without affecting other parts of the program, simplifying maintenance.\n",
        "\n",
        "  - Scalability: Inheritance and polymorphism enable the creation of scalable systems that can evolve over time.\n",
        "\n",
        "  - Security: Encapsulation provides a mechanism for restricting access to certain components, enhancing data security."
      ],
      "metadata": {
        "id": "zn5aXkPiJw-8"
      }
    },
    {
      "cell_type": "markdown",
      "source": [
        "17. What is the difference between a class variable and an instance variable?\n",
        "- Class variables are useful for attributes common to all instances, such as default values or constants, while instance variables store data unique to each object created from the class"
      ],
      "metadata": {
        "id": "XDXZmL5FKZh_"
      }
    },
    {
      "cell_type": "markdown",
      "source": [
        "18. What is multiple inheritance in Python?\n",
        "- Multiple inheritance in Python allows a class to inherit attributes and methods from more than one parent class. This enables a class to combine behaviors from multiple sources, promoting code reuse and flexibility.\n",
        "\n"
      ],
      "metadata": {
        "id": "eHsHFRbcLL-Y"
      }
    },
    {
      "cell_type": "markdown",
      "source": [
        "19. Explain the purpose of ‘’__str__’ and ‘__repr__’ ‘ methods in Python?\n",
        "\n",
        "- In Python, the __str__ and __repr__ methods are special (dunder) methods used to define how objects are represented as strings. While they serve similar purposes, they are intended for different audiences and contexts.\n"
      ],
      "metadata": {
        "id": "gljOyHRQLe1K"
      }
    },
    {
      "cell_type": "markdown",
      "source": [
        "20. What is the significance of the ‘super()’ function in Python?\n",
        "- The super() function in Python is a built-in function that allows you to call methods from a parent or sibling class. It is particularly useful in object-oriented programming for extending and customizing inherited functionality"
      ],
      "metadata": {
        "id": "IMGNLCtCMDlW"
      }
    },
    {
      "cell_type": "markdown",
      "source": [
        "21. What is the significance of the __del__ method in Python?\n",
        "- The __del__ method in Python is a special method known as a destructor. It is automatically called when an object's reference count reaches zero, indicating that the object is about to be destroyed. This method allows you to define cleanup actions, such as closing files or releasing network resources, before the object is removed from memory"
      ],
      "metadata": {
        "id": "eQMTHZLXMabe"
      }
    },
    {
      "cell_type": "markdown",
      "source": [
        "22. What is the difference between @staticmethod and @classmethod in Python?\n",
        "- In Python, @staticmethod and @classmethod are decorators that define methods with different behaviors and use cases within a class.\n",
        "\n"
      ],
      "metadata": {
        "id": "uqM7YmLUMq40"
      }
    },
    {
      "cell_type": "markdown",
      "source": [
        "23.  How does polymorphism work in Python with inheritance?\n",
        "- Polymorphism in Python allows objects of different classes to be treated as instances of a common superclass. It enables a unified interface for different data types. In the context of inheritance, polymorphism is achieved through method overriding, where a subclass provides a specific implementation of a method that is already defined in its superclass."
      ],
      "metadata": {
        "id": "jP_75sSQNAiB"
      }
    },
    {
      "cell_type": "markdown",
      "source": [
        "24. What is method chaining in Python OOP?\n",
        "- Method chaining in Python is a programming technique where multiple methods are called on the same object in a single line of code. This is achieved by ensuring that each method returns the object itself (i.e., self), allowing subsequent methods to be invoked on the same instance."
      ],
      "metadata": {
        "id": "EJstDfvzNbsD"
      }
    },
    {
      "cell_type": "markdown",
      "source": [
        "25. What is the purpose of the __call__ method in Python?\n",
        "- In Python, the __call__ method allows an instance of a class to be called as if it were a function. By defining this method, you enable objects to exhibit callable behavior, providing a flexible and intuitive interface."
      ],
      "metadata": {
        "id": "m3oYGPu3NtwS"
      }
    },
    {
      "cell_type": "code",
      "source": [
        "#Practical\n",
        "#1. Create a parent class Animal with a method speak() that prints a generic message. Create a child class Dog that overrides the speak() method to print \"Bark!\".\n",
        "\n",
        "class Animal:\n",
        "    def speak(self):\n",
        "        print(\"Animal speaks\")\n",
        "\n",
        "class Dog(Animal):\n",
        "    def speak(self):\n",
        "        print(\"Bark!\")\n"
      ],
      "metadata": {
        "id": "DVty9fanHSlL"
      },
      "execution_count": 3,
      "outputs": []
    },
    {
      "cell_type": "code",
      "source": [
        "#2. Write a program to create an abstract class Shape with a method area(). Derive classes Circle and Rectangle from it and implement the area() method in both.\n",
        "from abc import ABC, abstractmethod\n",
        "\n",
        "class Shape(ABC):\n",
        "    @abstractmethod\n",
        "    def area(self):\n",
        "        pass\n",
        "\n",
        "class Circle(Shape):\n",
        "    def __init__(self, radius):\n",
        "        self.radius = radius\n",
        "\n",
        "    def area(self):\n",
        "        return 3.14 * self.radius * self.radius\n",
        "\n",
        "class Rectangle(Shape):\n",
        "    def __init__(self, width, height):\n",
        "        self.width = width\n",
        "        self.height = height\n",
        "\n",
        "    def area(self):\n",
        "        return self.width * self.height\n"
      ],
      "metadata": {
        "id": "mLWnzgJZqg7i"
      },
      "execution_count": null,
      "outputs": []
    },
    {
      "cell_type": "code",
      "source": [
        "#3. Implement a multi-level inheritance scenario where a class Vehicle has an attribute type. Derive a class Car and further derive a class ElectricCar that adds a battery attribute.\n",
        "class Vehicle:\n",
        "    def __init__(self, type):\n",
        "        self.type = type\n",
        "\n",
        "class Car(Vehicle):\n",
        "    def __init__(self, type, model):\n",
        "        super().__init__(type)\n",
        "        self.model = model\n",
        "\n",
        "class ElectricCar(Car):\n",
        "    def __init__(self, type, model, battery):\n",
        "        super().__init__(type, model)\n",
        "        self.battery = battery\n"
      ],
      "metadata": {
        "id": "h1OrsSG7rE5I"
      },
      "execution_count": null,
      "outputs": []
    },
    {
      "cell_type": "code",
      "source": [
        "#4. Demonstrate polymorphism by creating a base class Bird with a method fly(). Create two derived classes Sparrow and Penguin that override the fly() method.\n",
        "\n",
        "class Bird:\n",
        "    def fly(self):\n",
        "        print(\"Bird is flying\")\n",
        "\n",
        "class Sparrow(Bird):\n",
        "    def fly(self):\n",
        "        print(\"Sparrow flies high\")\n",
        "\n",
        "class Penguin(Bird):\n",
        "    def fly(self):\n",
        "        print(\"Penguins can't fly\")\n"
      ],
      "metadata": {
        "id": "VftB6BmkrO4d"
      },
      "execution_count": null,
      "outputs": []
    },
    {
      "cell_type": "code",
      "source": [
        "#5. Write a program to demonstrate encapsulation by creating a class BankAccount with private attributesbalance and methods to deposit, withdraw, and check balance.\n",
        "class BankAccount:\n",
        "    def __init__(self):\n",
        "        self.__balance = 0\n",
        "\n",
        "    def deposit(self, amount):\n",
        "        self.__balance += amount\n",
        "\n",
        "    def withdraw(self, amount):\n",
        "        if amount <= self.__balance:\n",
        "            self.__balance -= amount\n",
        "\n",
        "    def check_balance(self):\n",
        "        return self.__balance\n"
      ],
      "metadata": {
        "id": "nrBqlrVZrYxx"
      },
      "execution_count": null,
      "outputs": []
    },
    {
      "cell_type": "code",
      "source": [
        "#6. Demonstrate runtime polymorphism using a method play() in a base class Instrument. Derive classes Guitarand Piano that implement their own version of play().\n",
        "class Instrument:\n",
        "    def play(self):\n",
        "        print(\"Playing an instrument\")\n",
        "\n",
        "class Guitar(Instrument):\n",
        "    def play(self):\n",
        "        print(\"Strumming the guitar\")\n",
        "\n",
        "class Piano(Instrument):\n",
        "    def play(self):\n",
        "        print(\"Playing the piano\")\n"
      ],
      "metadata": {
        "id": "9eZvAA2arniq"
      },
      "execution_count": null,
      "outputs": []
    },
    {
      "cell_type": "code",
      "source": [
        "#7. Create a class MathOperations with a class method add_numbers() to add two numbers and a staticmethod subtract_numbers() to subtract two numbers.\n",
        "class MathOperations:\n",
        "    @classmethod\n",
        "    def add_numbers(cls, a, b):\n",
        "        return a + b\n",
        "\n",
        "    @staticmethod\n",
        "    def subtract_numbers(a, b):\n",
        "        return a - b\n"
      ],
      "metadata": {
        "id": "ifgSP26SrvFI"
      },
      "execution_count": null,
      "outputs": []
    },
    {
      "cell_type": "code",
      "source": [
        "#8. Implement a class Person with a class method to count the total number of persons created.\n",
        "class Person:\n",
        "    count = 0\n",
        "\n",
        "    def __init__(self, name):\n",
        "        self.name = name\n",
        "        Person.count += 1\n",
        "\n",
        "    @classmethod\n",
        "    def total_persons(cls):\n",
        "        return cls.count\n"
      ],
      "metadata": {
        "id": "ONXooUINr2Y1"
      },
      "execution_count": null,
      "outputs": []
    },
    {
      "cell_type": "code",
      "source": [
        "#9. Write a class Fraction with attributes numerator and denominator. Override the str method to display thefraction as \"numerator/denominator\".\n",
        "class Fraction:\n",
        "    def __init__(self, numerator, denominator):\n",
        "        self.numerator = numerator\n",
        "        self.denominator = denominator\n",
        "\n",
        "    def __str__(self):\n",
        "        return f\"{self.numerator}/{self.denominator}\"\n"
      ],
      "metadata": {
        "id": "eAAQXaxrr_Dy"
      },
      "execution_count": null,
      "outputs": []
    },
    {
      "cell_type": "code",
      "source": [
        "#10. Demonstrate operator overloading by creating a class Vector and overriding the add method to add twovectors.\n",
        "class Vector:\n",
        "    def __init__(self, x, y):\n",
        "        self.x = x\n",
        "        self.y = y\n",
        "\n",
        "    def __add__(self, other):\n",
        "        return Vector(self.x + other.x, self.y + other.y)\n",
        "\n",
        "    def __str__(self):\n",
        "        return f\"({self.x}, {self.y})\"\n"
      ],
      "metadata": {
        "id": "0qEy8W_rr2LC"
      },
      "execution_count": null,
      "outputs": []
    },
    {
      "cell_type": "code",
      "source": [
        "#11. Create a class Person with attributes name and age. Add a method greet() that prints \"Hello, my name is{name} and I am {age} years old.\"\n",
        "class Person:\n",
        "    def __init__(self, name, age):\n",
        "        self.name = name\n",
        "        self.age = age\n",
        "\n",
        "    def greet(self):\n",
        "        print(f\"Hello, my name is {self.name} and I am {self.age} years old.\")\n"
      ],
      "metadata": {
        "id": "OedHz64csRM-"
      },
      "execution_count": null,
      "outputs": []
    },
    {
      "cell_type": "code",
      "source": [
        "#12. Implement a class Student with attributes name and grades. Create a method average_grade() to computethe average of the grades.\n",
        "class Student:\n",
        "    def __init__(self, name, grades):\n",
        "        self.name = name\n",
        "        self.grades = grades\n",
        "\n",
        "    def average_grade(self):\n",
        "        return sum(self.grades) / len(self.grades)\n"
      ],
      "metadata": {
        "id": "x4WLzX0Ysaw8"
      },
      "execution_count": null,
      "outputs": []
    },
    {
      "cell_type": "code",
      "source": [
        "#13. Create a class Rectangle with methods set_dimensions() to set the dimensions and area() to calculate thearea.\n",
        "class Rectangle:\n",
        "    def set_dimensions(self, width, height):\n",
        "        self.width = width\n",
        "        self.height = height\n",
        "\n",
        "    def area(self):\n",
        "        return self.width * self.height\n"
      ],
      "metadata": {
        "id": "osJIdcZ2sip5"
      },
      "execution_count": null,
      "outputs": []
    },
    {
      "cell_type": "code",
      "source": [
        "#14. Create a class Employee with a method calculate_salary() that computes the salary based on hours worked and hourly rate. Create a derived class Manager that adds a bonus to the salary.\n",
        "class Employee:\n",
        "    def calculate_salary(self, hours, rate):\n",
        "        return hours * rate\n",
        "\n",
        "class Manager(Employee):\n",
        "    def calculate_salary(self, hours, rate, bonus):\n",
        "        return super().calculate_salary(hours, rate) + bonus\n"
      ],
      "metadata": {
        "id": "Uflb-Mb7suCt"
      },
      "execution_count": null,
      "outputs": []
    },
    {
      "cell_type": "code",
      "source": [
        "#15. Create a class Product with attributes name, price, and quantity. Implement a method total_price() thatcalculates the total price of the product.\n",
        "class Product:\n",
        "    def __init__(self, name, price, quantity):\n",
        "        self.name = name\n",
        "        self.price = price\n",
        "        self.quantity = quantity\n",
        "\n",
        "    def total_price(self):\n",
        "        return self.price * self.quantity\n"
      ],
      "metadata": {
        "id": "0IOENeHus5Ob"
      },
      "execution_count": null,
      "outputs": []
    },
    {
      "cell_type": "code",
      "source": [
        "#16. Create a class Animal with an abstract method sound(). Create two derived classes Cow and Sheep thatimplement the sound() method.\n",
        "from abc import ABC, abstractmethod\n",
        "\n",
        "class Animal(ABC):\n",
        "    @abstractmethod\n",
        "    def sound(self):\n",
        "        pass\n",
        "\n",
        "class Cow(Animal):\n",
        "    def sound(self):\n",
        "        return \"Moo\"\n",
        "\n",
        "class Sheep(Animal):\n",
        "    def sound(self):\n",
        "        return \"Baa\"\n"
      ],
      "metadata": {
        "id": "iITIQhHHtFyl"
      },
      "execution_count": null,
      "outputs": []
    },
    {
      "cell_type": "code",
      "source": [
        "#17. Create a class Book with attributes title, author, and year_published. Add a method get_book_info() that returns a formatted string with the book's details.\n",
        "class Book:\n",
        "    def __init__(self, title, author, year_published):\n",
        "        self.title = title\n",
        "        self.author = author\n",
        "        self.year_published = year_published\n",
        "\n",
        "    def get_book_info(self):\n",
        "        return f\"{self.title} by {self.author}, published in {self.year_published}\"\n"
      ],
      "metadata": {
        "id": "qc4mLqZptOpT"
      },
      "execution_count": null,
      "outputs": []
    },
    {
      "cell_type": "code",
      "source": [
        "#18. Create a class House with attributes address and price. Create a derived class Mansion that adds an attribute number_of_rooms.\n",
        "class House:\n",
        "    def __init__(self, address, price):\n",
        "        self.address = address\n",
        "        self.price = price\n",
        "\n",
        "class Mansion(House):\n",
        "    def __init__(self, address, price, number_of_rooms):\n",
        "        super().__init__(address, price)\n",
        "        self.number_of_rooms = number_of_rooms\n"
      ],
      "metadata": {
        "id": "suib90SFtbYG"
      },
      "execution_count": null,
      "outputs": []
    }
  ]
}